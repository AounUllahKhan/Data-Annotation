{
 "cells": [
  {
   "cell_type": "code",
   "execution_count": 1,
   "id": "545d707a",
   "metadata": {},
   "outputs": [
    {
     "name": "stdout",
     "output_type": "stream",
     "text": [
      "Collecting bing-image-downloader"
     ]
    },
    {
     "name": "stderr",
     "output_type": "stream",
     "text": [
      "\n",
      "[notice] A new release of pip is available: 23.2 -> 23.2.1\n",
      "[notice] To update, run: python.exe -m pip install --upgrade pip\n"
     ]
    },
    {
     "name": "stdout",
     "output_type": "stream",
     "text": [
      "\n",
      "  Downloading bing_image_downloader-1.1.2-py3-none-any.whl (5.9 kB)\n",
      "Installing collected packages: bing-image-downloader\n",
      "Successfully installed bing-image-downloader-1.1.2\n"
     ]
    }
   ],
   "source": [
    "!pip install bing-image-downloader"
   ]
  },
  {
   "cell_type": "code",
   "execution_count": 2,
   "id": "c7731428",
   "metadata": {},
   "outputs": [],
   "source": [
    "from bing_image_downloader import downloader"
   ]
  },
  {
   "cell_type": "code",
   "execution_count": 3,
   "id": "024f16de",
   "metadata": {},
   "outputs": [
    {
     "name": "stdout",
     "output_type": "stream",
     "text": [
      "[%] Downloading Images to E:\\Object Detection Using Yolo\\images\\person\n",
      "\n",
      "\n",
      "[!!]Indexing page: 1\n",
      "\n",
      "[%] Indexed 10 Images on Page 1.\n",
      "\n",
      "===============================================\n",
      "\n",
      "[%] Downloading Image #1 from https://tap-easy.com/wp-content/uploads/2015/12/master-your-success.jpg\n",
      "[!] Issue getting: https://tap-easy.com/wp-content/uploads/2015/12/master-your-success.jpg\n",
      "[!] Error:: Remote end closed connection without response\n",
      "[%] Downloading Image #1 from http://www.clipartbest.com/cliparts/9ip/zR8/9ipzR8A6T.jpeg\n",
      "[%] File Downloaded !\n",
      "\n",
      "[%] Downloading Image #2 from https://get.pxhere.com/photo/work-man-person-people-male-meeting-young-corporate-office-professional-business-profession-speaker-elder-job-meet-official-clergy-business-executive-businessperson-1079382.jpg\n",
      "[%] File Downloaded !\n",
      "\n",
      "[%] Downloading Image #3 from https://images.pexels.com/photos/220453/pexels-photo-220453.jpeg?cs=srgb&amp;dl=pexels-pixabay-220453.jpg&amp;fm=jpg\n",
      "[%] File Downloaded !\n",
      "\n",
      "[%] Downloading Image #4 from https://get.pxhere.com/photo/man-person-people-portrait-professional-profession-smiling-senior-citizen-elder-face-happy-980074.jpg\n",
      "[%] File Downloaded !\n",
      "\n",
      "[%] Downloading Image #5 from https://www.kevinashleyphotography.com/wp-content/uploads/2015/11/person.jpg\n",
      "[%] File Downloaded !\n",
      "\n",
      "[%] Downloading Image #6 from https://main-careacross.s3.amazonaws.com/images/old/person-man.jpg\n",
      "[%] File Downloaded !\n",
      "\n",
      "[%] Downloading Image #7 from http://pngimg.com/uploads/businessman/businessman_PNG6566.png\n",
      "[%] File Downloaded !\n",
      "\n",
      "[%] Downloading Image #8 from https://virtualtrexpo.com/wp-content/uploads/2016/03/person-14-983x1024.jpg\n",
      "[Error]Invalid image, not saving https://virtualtrexpo.com/wp-content/uploads/2016/03/person-14-983x1024.jpg\n",
      "\n",
      "[!] Issue getting: https://virtualtrexpo.com/wp-content/uploads/2016/03/person-14-983x1024.jpg\n",
      "[!] Error:: Invalid image, not saving https://virtualtrexpo.com/wp-content/uploads/2016/03/person-14-983x1024.jpg\n",
      "\n",
      "[%] Downloading Image #8 from http://blocktonite.com/wp-content/uploads/2017/04/Wow-AdobeStock_136686691.jpeg\n",
      "[!] Issue getting: http://blocktonite.com/wp-content/uploads/2017/04/Wow-AdobeStock_136686691.jpeg\n",
      "[!] Error:: Remote end closed connection without response\n",
      "\n",
      "\n",
      "[!!]Indexing page: 2\n",
      "\n",
      "[%] Indexed 35 Images on Page 2.\n",
      "\n",
      "===============================================\n",
      "\n",
      "[%] Downloading Image #8 from https://blalockcompanies.com/commercial/wp-content/uploads/sites/2/2017/08/person.jpg\n",
      "[%] File Downloaded !\n",
      "\n",
      "[%] Downloading Image #9 from https://www.oceanfrontrecovery.com/wp-content/uploads/2019/10/22832_013_8x10_LawrenceMarquez-1.jpg\n",
      "[%] File Downloaded !\n",
      "\n",
      "[%] Downloading Image #10 from https://www.univarsolutionspensions.co.uk/images/person-smiling-1.jpg\n",
      "[%] File Downloaded !\n",
      "\n",
      "\n",
      "\n",
      "[%] Done. Downloaded 10 images.\n"
     ]
    }
   ],
   "source": [
    "downloader.download(\"person\",limit=10,output_dir=\"images\")"
   ]
  },
  {
   "cell_type": "code",
   "execution_count": 5,
   "id": "bc8cdb8a",
   "metadata": {},
   "outputs": [
    {
     "name": "stdout",
     "output_type": "stream",
     "text": [
      "[%] Downloading Images to E:\\Object Detection Using Yolo\\images\\car\n",
      "\n",
      "\n",
      "[!!]Indexing page: 1\n",
      "\n",
      "[%] Indexed 10 Images on Page 1.\n",
      "\n",
      "===============================================\n",
      "\n",
      "[%] Downloading Image #1 from https://cdn.vox-cdn.com/thumbor/IZ7fpJNSeEO1v2vNapVlLYlCWzc=/214x0:1037x549/1200x800/filters:focal(214x0:1037x549)/cdn.vox-cdn.com/uploads/chorus_image/image/45200072/new-ford-gt-supercar-0006.0.0.jpg\n",
      "[%] File Downloaded !\n",
      "\n",
      "[%] Downloading Image #2 from https://wallup.net/wp-content/uploads/2019/09/26759-lamborghini-exotic-supercar-vehicles-cars-orange-color-contrast-wet-roads-architecture-buildings-structures-wheels-1.jpg\n",
      "[%] File Downloaded !\n",
      "\n",
      "[%] Downloading Image #3 from http://1.bp.blogspot.com/-okP1j9pzSzw/TjKthXHloWI/AAAAAAAAEX4/jLvcrkSAdXM/s1600/Hot+Cars+Wallpapers+%252823%2529.jpg\n",
      "[%] File Downloaded !\n",
      "\n",
      "[%] Downloading Image #4 from https://4.bp.blogspot.com/-W2rT6DiYko0/UOol6OWBfVI/AAAAAAAAE_E/3l3jKDQiAGo/s1600/738337_492628620787429_400049271_o.jpg\n",
      "[%] File Downloaded !\n",
      "\n",
      "[%] Downloading Image #5 from https://www.stugon.com/wp-content/uploads/2013/12/Exotic-Car-Wallpapers-HD-Edition-stugon.com-15.jpg\n",
      "[%] File Downloaded !\n",
      "\n",
      "[%] Downloading Image #6 from http://www.wicklowmontessoriprimaryschoolcoders.me/coders1/nicholas/images/car2.jpg\n",
      "[%] File Downloaded !\n",
      "\n",
      "[%] Downloading Image #7 from http://2.bp.blogspot.com/-2NQ6RLwcCD0/UCHQhLxDHSI/AAAAAAAACvA/0yF8EvbYZ2U/s1600/top+10+most+beautiful+car+in+the+world-4.jpg\n",
      "[%] File Downloaded !\n",
      "\n",
      "[%] Downloading Image #8 from https://i1.wp.com/www.stugon.com/wp-content/uploads/2013/12/Exotic-Car-Wallpapers-HD-Edition-stugon.com-10.jpg\n",
      "[!] Issue getting: https://i1.wp.com/www.stugon.com/wp-content/uploads/2013/12/Exotic-Car-Wallpapers-HD-Edition-stugon.com-10.jpg\n",
      "[!] Error:: HTTP Error 404: Not Found\n",
      "[%] Downloading Image #8 from http://www.newcarreleasedates.com/uploads/1/8/5/5/1855303/6107158_orig.jpg\n",
      "[%] File Downloaded !\n",
      "\n",
      "[%] Downloading Image #9 from https://fm.cnbc.com/applications/cnbc.com/resources/img/editorial/2018/08/31/105427259-1535730447635gettyimages-810877128.1910x1000.jpeg\n",
      "[%] File Downloaded !\n",
      "\n",
      "\n",
      "\n",
      "[!!]Indexing page: 2\n",
      "\n",
      "[%] Indexed 35 Images on Page 2.\n",
      "\n",
      "===============================================\n",
      "\n",
      "[%] Downloading Image #10 from https://i.pinimg.com/originals/e5/62/0f/e5620fe72b5b25232076ffc22cf03112.jpg\n",
      "[%] File Downloaded !\n",
      "\n",
      "\n",
      "\n",
      "[%] Done. Downloaded 10 images.\n"
     ]
    }
   ],
   "source": [
    "downloader.download(\"car\",limit=10,output_dir=\"images\",verbose=True)"
   ]
  },
  {
   "cell_type": "code",
   "execution_count": 7,
   "id": "2d995552",
   "metadata": {},
   "outputs": [
    {
     "name": "stdout",
     "output_type": "stream",
     "text": [
      "[%] Downloading Images to E:\\Object Detection Using Yolo\\images\\chair\n",
      "[!] Issue getting: https://www.cute-furniture.com/wp-content/uploads/2018/07/javanese-rattan-arm-chair.png\n",
      "[!] Error:: <urlopen error [Errno 11002] getaddrinfo failed>\n",
      "\n",
      "\n",
      "[%] Done. Downloaded 10 images.\n"
     ]
    }
   ],
   "source": [
    "downloader.download(\"chair\",limit=10,output_dir=\"images\",verbose=False)"
   ]
  },
  {
   "cell_type": "code",
   "execution_count": 8,
   "id": "cca55929",
   "metadata": {},
   "outputs": [
    {
     "name": "stdout",
     "output_type": "stream",
     "text": [
      "[%] Downloading Images to E:\\Object Detection Using Yolo\\images\\bottle\n",
      "[!] Issue getting: https://customlabeledbottledwater.com/wp-content/uploads/2012/08/IMG_1237.jpg\n",
      "[!] Error:: Remote end closed connection without response\n",
      "[Error]Invalid image, not saving http://lindaerb.files.wordpress.com/2008/11/wine-bottle.jpg\n",
      "\n",
      "[!] Issue getting: http://lindaerb.files.wordpress.com/2008/11/wine-bottle.jpg\n",
      "[!] Error:: Invalid image, not saving http://lindaerb.files.wordpress.com/2008/11/wine-bottle.jpg\n",
      "\n",
      "\n",
      "\n",
      "[%] Done. Downloaded 10 images.\n"
     ]
    }
   ],
   "source": [
    "downloader.download(\"bottle\",limit=10,output_dir=\"images\",verbose=False)"
   ]
  },
  {
   "cell_type": "code",
   "execution_count": 9,
   "id": "00016f37",
   "metadata": {},
   "outputs": [
    {
     "name": "stdout",
     "output_type": "stream",
     "text": [
      "[%] Downloading Images to E:\\Object Detection Using Yolo\\images\\pottedplant\n",
      "\n",
      "\n",
      "[%] Done. Downloaded 10 images.\n"
     ]
    }
   ],
   "source": [
    "downloader.download(\"pottedplant\",limit=10,output_dir=\"images\",verbose=False)"
   ]
  },
  {
   "cell_type": "code",
   "execution_count": 10,
   "id": "babeeae9",
   "metadata": {},
   "outputs": [
    {
     "name": "stdout",
     "output_type": "stream",
     "text": [
      "[%] Downloading Images to E:\\Object Detection Using Yolo\\images\\bird\n",
      "\n",
      "\n",
      "[%] Done. Downloaded 10 images.\n"
     ]
    }
   ],
   "source": [
    "downloader.download(\"bird\",limit=10,output_dir=\"images\",verbose=False)"
   ]
  },
  {
   "cell_type": "code",
   "execution_count": 11,
   "id": "5120fcbd",
   "metadata": {},
   "outputs": [
    {
     "name": "stdout",
     "output_type": "stream",
     "text": [
      "[%] Downloading Images to E:\\Object Detection Using Yolo\\images\\dog\n",
      "[Error]Invalid image, not saving https://spottedhorsechick.files.wordpress.com/2010/01/dogs-044.jpg\n",
      "\n",
      "[!] Issue getting: https://spottedhorsechick.files.wordpress.com/2010/01/dogs-044.jpg\n",
      "[!] Error:: Invalid image, not saving https://spottedhorsechick.files.wordpress.com/2010/01/dogs-044.jpg\n",
      "\n",
      "\n",
      "\n",
      "[%] Done. Downloaded 10 images.\n"
     ]
    }
   ],
   "source": [
    "downloader.download(\"dog\",limit=10,output_dir=\"images\",verbose=False)"
   ]
  },
  {
   "cell_type": "code",
   "execution_count": 12,
   "id": "fbca5963",
   "metadata": {},
   "outputs": [
    {
     "name": "stdout",
     "output_type": "stream",
     "text": [
      "[%] Downloading Images to E:\\Object Detection Using Yolo\\images\\sofa\n",
      "\n",
      "\n",
      "[%] Done. Downloaded 10 images.\n"
     ]
    }
   ],
   "source": [
    "downloader.download(\"sofa\",limit=10,output_dir=\"images\",verbose=False)"
   ]
  },
  {
   "cell_type": "code",
   "execution_count": 13,
   "id": "8e33c848",
   "metadata": {},
   "outputs": [
    {
     "name": "stdout",
     "output_type": "stream",
     "text": [
      "[%] Downloading Images to E:\\Object Detection Using Yolo\\images\\bicycle\n",
      "\n",
      "\n",
      "[%] Done. Downloaded 10 images.\n"
     ]
    }
   ],
   "source": [
    "downloader.download(\"bicycle\",limit=10,output_dir=\"images\",verbose=False)"
   ]
  },
  {
   "cell_type": "code",
   "execution_count": 14,
   "id": "3b58993e",
   "metadata": {},
   "outputs": [
    {
     "name": "stdout",
     "output_type": "stream",
     "text": [
      "[%] Downloading Images to E:\\Object Detection Using Yolo\\images\\boat\n",
      "[!] Issue getting: https://i1.wp.com/intheboatshed.net/wp-content/uploads/2008/10/dscf0039.jpg\n",
      "[!] Error:: HTTP Error 404: Not Found\n",
      "[!] Issue getting: http://images.boats.com/resize/wp/2/files/2015/11/hydrasports-53.jpg\n",
      "[!] Error:: HTTP Error 404: Not Found\n",
      "\n",
      "\n",
      "[%] Done. Downloaded 10 images.\n"
     ]
    }
   ],
   "source": [
    "downloader.download(\"boat\",limit=10,output_dir=\"images\",verbose=False)"
   ]
  },
  {
   "cell_type": "code",
   "execution_count": 15,
   "id": "7ff6a972",
   "metadata": {},
   "outputs": [
    {
     "name": "stdout",
     "output_type": "stream",
     "text": [
      "[%] Downloading Images to E:\\Object Detection Using Yolo\\images\\motorbike\n",
      "[!] Issue getting: https://i0.wp.com/i.imgur.com/m16Hzej.jpg\n",
      "[!] Error:: HTTP Error 404: Not Found\n",
      "[!] Issue getting: https://www.bikerandbike.co.uk/wp-content/uploads/2016/09/motorcycle-1074971_1280.jpg\n",
      "[!] Error:: HTTP Error 520: \n",
      "\n",
      "\n",
      "[%] Done. Downloaded 10 images.\n"
     ]
    }
   ],
   "source": [
    "downloader.download(\"motorbike\",limit=10,output_dir=\"images\",verbose=False)"
   ]
  },
  {
   "cell_type": "code",
   "execution_count": 16,
   "id": "585f6a79",
   "metadata": {},
   "outputs": [
    {
     "name": "stdout",
     "output_type": "stream",
     "text": [
      "[%] Downloading Images to E:\\Object Detection Using Yolo\\images\\cat\n",
      "[!] Issue getting: http://images2.fanpop.com/images/photos/5100000/Cats-wallpaper-cats-5194568-1280-1024.jpg\n",
      "[!] Error:: Remote end closed connection without response\n",
      "[!] Issue getting: https://www.ovrs.com/blog/wp-content/uploads/2014/12/iStock_000029861698_Medium-1.jpg\n",
      "[!] Error:: <urlopen error [Errno 11002] getaddrinfo failed>\n",
      "[!] Issue getting: https://novacatclinic.com/wp-content/uploads/2019/03/IMG_8668.jpg\n",
      "[!] Error:: <urlopen error [Errno 11002] getaddrinfo failed>\n",
      "\n",
      "\n",
      "[%] Done. Downloaded 10 images.\n"
     ]
    }
   ],
   "source": [
    "downloader.download(\"cat\",limit=10,output_dir=\"images\",verbose=False)"
   ]
  },
  {
   "cell_type": "code",
   "execution_count": 17,
   "id": "0f43a3f9",
   "metadata": {},
   "outputs": [
    {
     "name": "stdout",
     "output_type": "stream",
     "text": [
      "[%] Downloading Images to E:\\Object Detection Using Yolo\\images\\tvmonitor\n",
      "[!] Issue getting: https://www.lg.com/us/images/monitors/md08001326/gallery/D-03.jpg\n",
      "[!] Error:: <urlopen error [Errno 11002] getaddrinfo failed>\n",
      "\n",
      "\n",
      "[%] Done. Downloaded 10 images.\n"
     ]
    }
   ],
   "source": [
    "downloader.download(\"tvmonitor\",limit=10,output_dir=\"images\",verbose=False)"
   ]
  },
  {
   "cell_type": "code",
   "execution_count": 18,
   "id": "c7f3b5ad",
   "metadata": {},
   "outputs": [
    {
     "name": "stdout",
     "output_type": "stream",
     "text": [
      "[%] Downloading Images to E:\\Object Detection Using Yolo\\images\\cow\n",
      "\n",
      "\n",
      "[%] Done. Downloaded 10 images.\n"
     ]
    }
   ],
   "source": [
    "downloader.download(\"cow\",limit=10,output_dir=\"images\",verbose=False)"
   ]
  },
  {
   "cell_type": "code",
   "execution_count": 19,
   "id": "a8a730e5",
   "metadata": {},
   "outputs": [
    {
     "name": "stdout",
     "output_type": "stream",
     "text": [
      "[%] Downloading Images to E:\\Object Detection Using Yolo\\images\\sheep\n",
      "[Error]Invalid image, not saving http://baarmychris.files.wordpress.com/2012/07/sheep.jpg\n",
      "\n",
      "[!] Issue getting: http://baarmychris.files.wordpress.com/2012/07/sheep.jpg\n",
      "[!] Error:: Invalid image, not saving http://baarmychris.files.wordpress.com/2012/07/sheep.jpg\n",
      "\n",
      "[!] Issue getting: http://files.campus.edublogs.org/blogs.cornell.edu/dist/c/2110/files/2012/07/Sheep1-1jyf79s.jpg\n",
      "[!] Error:: <urlopen error [SSL: CERTIFICATE_VERIFY_FAILED] certificate verify failed: Hostname mismatch, certificate is not valid for 'files.campus.edublogs.org'. (_ssl.c:1129)>\n",
      "\n",
      "\n",
      "[%] Done. Downloaded 10 images.\n"
     ]
    }
   ],
   "source": [
    "downloader.download(\"sheep\",limit=10,output_dir=\"images\",verbose=False)"
   ]
  },
  {
   "cell_type": "code",
   "execution_count": 20,
   "id": "ebe8916d",
   "metadata": {},
   "outputs": [
    {
     "name": "stdout",
     "output_type": "stream",
     "text": [
      "[%] Downloading Images to E:\\Object Detection Using Yolo\\images\\aeroplane\n",
      "[Error]Invalid image, not saving https://aeroplaneblog.files.wordpress.com/2013/01/airplane-2.jpg\n",
      "\n",
      "[!] Issue getting: https://aeroplaneblog.files.wordpress.com/2013/01/airplane-2.jpg\n",
      "[!] Error:: Invalid image, not saving https://aeroplaneblog.files.wordpress.com/2013/01/airplane-2.jpg\n",
      "\n",
      "\n",
      "\n",
      "[%] Done. Downloaded 10 images.\n"
     ]
    }
   ],
   "source": [
    "downloader.download(\"aeroplane\",limit=10,output_dir=\"images\",verbose=False)"
   ]
  },
  {
   "cell_type": "code",
   "execution_count": 21,
   "id": "28708179",
   "metadata": {},
   "outputs": [
    {
     "name": "stdout",
     "output_type": "stream",
     "text": [
      "[%] Downloading Images to E:\\Object Detection Using Yolo\\images\\train\n",
      "[!] Issue getting: https://www.moneytalksnews.com/workers/images/width=1920/wp-content/uploads/2016/05/28172035/shutterstock_222519619.jpg?s=1bf54c3cefa6988641d3b0d0f5487b986ec499ab074b01ec84367be5e9cc4212\n",
      "[!] Error:: HTTP Error 403: Forbidden\n",
      "[!] Issue getting: https://www.khabarindia.in/wp-content/uploads/2017/03/train1.jpg\n",
      "[!] Error:: <urlopen error [Errno 11002] getaddrinfo failed>\n",
      "\n",
      "\n",
      "[%] Done. Downloaded 10 images.\n"
     ]
    }
   ],
   "source": [
    "downloader.download(\"train\",limit=10,output_dir=\"images\",verbose=False)"
   ]
  },
  {
   "cell_type": "code",
   "execution_count": 22,
   "id": "62d9ffd2",
   "metadata": {},
   "outputs": [
    {
     "name": "stdout",
     "output_type": "stream",
     "text": [
      "[%] Downloading Images to E:\\Object Detection Using Yolo\\images\\diningtable\n",
      "[!] Issue getting: https://furniturewares.com/wp-content/uploads/2017/03/1-125.jpg\n",
      "[!] Error:: <urlopen error [WinError 10054] An existing connection was forcibly closed by the remote host>\n",
      "[Error]Invalid image, not saving http://starmodernfurniture.com/media/catalog/product/cache/1/thumbnail/9df78eab33525d08d6e5fb8d27136e95/s/q/square_dining_table_with_side_chairs_in_dark_cherry_finish.jpg\n",
      "\n",
      "[!] Issue getting: http://starmodernfurniture.com/media/catalog/product/cache/1/thumbnail/9df78eab33525d08d6e5fb8d27136e95/s/q/square_dining_table_with_side_chairs_in_dark_cherry_finish.jpg\n",
      "[!] Error:: Invalid image, not saving http://starmodernfurniture.com/media/catalog/product/cache/1/thumbnail/9df78eab33525d08d6e5fb8d27136e95/s/q/square_dining_table_with_side_chairs_in_dark_cherry_finish.jpg\n",
      "\n",
      "[!] Issue getting: http://img.auctiva.com/imgdata/3/4/6/7/9/8/webimg/481368224_o.jpg\n",
      "[!] Error:: HTTP Error 403: Forbidden\n",
      "[!] Issue getting: https://www.betterhomeindia.com/wp-content/uploads/2019/11/Grace-Diningtable-set-Betterhomeindia.jpg\n",
      "[!] Error:: <urlopen error [Errno 11001] getaddrinfo failed>\n",
      "[!] Issue getting: http://www.avetexfurniture.com/images/products/6/49726/modern-dining-table-extendable-solid-wood-oak-veneer-ash-grey-nj-berenice.jpg\n",
      "[!] Error:: <urlopen error [Errno 11002] getaddrinfo failed>\n",
      "[!] Issue getting: https://images.furnituredealer.net/img/products/coaster/color/modern dining - -181734809_106281-b1.jpg\n",
      "[!] Error:: URL can't contain control characters. '/img/products/coaster/color/modern dining - -181734809_106281-b1.jpg' (found at least ' ')\n",
      "[!] Issue getting: http://www.avetexfurniture.com/images/products/2/43442/wenge-dining-table-extend-l.jpg\n",
      "[!] Error:: <urlopen error [Errno 11001] getaddrinfo failed>\n",
      "[Error]Invalid image, not saving http://trueformdecor.com/wp-content/uploads/2012/08/dining-table-11.jpg\n",
      "\n",
      "[!] Issue getting: http://trueformdecor.com/wp-content/uploads/2012/08/dining-table-11.jpg\n",
      "[!] Error:: Invalid image, not saving http://trueformdecor.com/wp-content/uploads/2012/08/dining-table-11.jpg\n",
      "\n",
      "\n",
      "\n",
      "[%] Done. Downloaded 10 images.\n"
     ]
    }
   ],
   "source": [
    "downloader.download(\"diningtable\",limit=10,output_dir=\"images\",verbose=False)"
   ]
  },
  {
   "cell_type": "code",
   "execution_count": 23,
   "id": "d252fe18",
   "metadata": {},
   "outputs": [
    {
     "name": "stdout",
     "output_type": "stream",
     "text": [
      "[%] Downloading Images to E:\\Object Detection Using Yolo\\images\\bus\n",
      "[!] Issue getting: https://d.ibtimes.co.uk/en/full/1396270/london-bus-tfl-wireless-hybrid.jpg\n",
      "[!] Error:: <urlopen error [Errno 11002] getaddrinfo failed>\n",
      "[!] Issue getting: http://australia.showbus.com/A/20 Driver Irisbus Metro Volgren.JPG\n",
      "[!] Error:: URL can't contain control characters. '/A/20 Driver Irisbus Metro Volgren.JPG' (found at least ' ')\n",
      "[!] Issue getting: http://showbus.co.uk/australia/A/95 Buses-r-us Mercedes.JPG\n",
      "[!] Error:: URL can't contain control characters. '/australia/A/95 Buses-r-us Mercedes.JPG' (found at least ' ')\n",
      "\n",
      "\n",
      "[%] Done. Downloaded 10 images.\n"
     ]
    }
   ],
   "source": [
    "downloader.download(\"bus\",limit=10,output_dir=\"images\",verbose=False)"
   ]
  },
  {
   "cell_type": "code",
   "execution_count": null,
   "id": "e53ecb18",
   "metadata": {},
   "outputs": [],
   "source": []
  }
 ],
 "metadata": {
  "kernelspec": {
   "display_name": "Python 3 (ipykernel)",
   "language": "python",
   "name": "python3"
  },
  "language_info": {
   "codemirror_mode": {
    "name": "ipython",
    "version": 3
   },
   "file_extension": ".py",
   "mimetype": "text/x-python",
   "name": "python",
   "nbconvert_exporter": "python",
   "pygments_lexer": "ipython3",
   "version": "3.9.6"
  }
 },
 "nbformat": 4,
 "nbformat_minor": 5
}
